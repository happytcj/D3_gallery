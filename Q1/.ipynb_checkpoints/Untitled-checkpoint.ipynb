{
 "cells": [
  {
   "cell_type": "code",
   "execution_count": 12,
   "metadata": {},
   "outputs": [],
   "source": [
    "import numpy as np\n",
    "import pandas as pd"
   ]
  },
  {
   "cell_type": "code",
   "execution_count": 5,
   "metadata": {},
   "outputs": [
    {
     "name": "stdout",
     "output_type": "stream",
     "text": [
      "(144, 5)\n"
     ]
    },
    {
     "data": {
      "text/html": [
       "<div>\n",
       "<style scoped>\n",
       "    .dataframe tbody tr th:only-of-type {\n",
       "        vertical-align: middle;\n",
       "    }\n",
       "\n",
       "    .dataframe tbody tr th {\n",
       "        vertical-align: top;\n",
       "    }\n",
       "\n",
       "    .dataframe thead th {\n",
       "        text-align: right;\n",
       "    }\n",
       "</style>\n",
       "<table border=\"1\" class=\"dataframe\">\n",
       "  <thead>\n",
       "    <tr style=\"text-align: right;\">\n",
       "      <th></th>\n",
       "      <th>Name</th>\n",
       "      <th>Overall Rank</th>\n",
       "      <th>Nationality</th>\n",
       "      <th>Apparatus</th>\n",
       "      <th>Total Score</th>\n",
       "    </tr>\n",
       "  </thead>\n",
       "  <tbody>\n",
       "    <tr>\n",
       "      <th>0</th>\n",
       "      <td>Xiao Ruoteng</td>\n",
       "      <td>1</td>\n",
       "      <td>CHN</td>\n",
       "      <td>Floor</td>\n",
       "      <td>14.433</td>\n",
       "    </tr>\n",
       "    <tr>\n",
       "      <th>1</th>\n",
       "      <td>Xiao Ruoteng</td>\n",
       "      <td>1</td>\n",
       "      <td>CHN</td>\n",
       "      <td>Pommel Horse</td>\n",
       "      <td>14.800</td>\n",
       "    </tr>\n",
       "    <tr>\n",
       "      <th>2</th>\n",
       "      <td>Xiao Ruoteng</td>\n",
       "      <td>1</td>\n",
       "      <td>CHN</td>\n",
       "      <td>Rings</td>\n",
       "      <td>13.800</td>\n",
       "    </tr>\n",
       "    <tr>\n",
       "      <th>3</th>\n",
       "      <td>Xiao Ruoteng</td>\n",
       "      <td>1</td>\n",
       "      <td>CHN</td>\n",
       "      <td>Vault</td>\n",
       "      <td>14.900</td>\n",
       "    </tr>\n",
       "    <tr>\n",
       "      <th>4</th>\n",
       "      <td>Xiao Ruoteng</td>\n",
       "      <td>1</td>\n",
       "      <td>CHN</td>\n",
       "      <td>PBars</td>\n",
       "      <td>14.600</td>\n",
       "    </tr>\n",
       "  </tbody>\n",
       "</table>\n",
       "</div>"
      ],
      "text/plain": [
       "           Name  Overall Rank Nationality     Apparatus  Total Score\n",
       "0  Xiao Ruoteng             1         CHN         Floor       14.433\n",
       "1  Xiao Ruoteng             1         CHN  Pommel Horse       14.800\n",
       "2  Xiao Ruoteng             1         CHN         Rings       13.800\n",
       "3  Xiao Ruoteng             1         CHN         Vault       14.900\n",
       "4  Xiao Ruoteng             1         CHN         PBars       14.600"
      ]
     },
     "execution_count": 5,
     "metadata": {},
     "output_type": "execute_result"
    }
   ],
   "source": [
    "df = pd.read_csv(\"worldchamps_mens_gymnastics.csv\", header=0)\n",
    "df=df[['Name', 'Overall Rank', 'Nationality', 'Apparatus', 'Total Score']]\n",
    "print(df.shape)\n",
    "df.head()"
   ]
  },
  {
   "cell_type": "code",
   "execution_count": 32,
   "metadata": {},
   "outputs": [],
   "source": [
    "group = df.groupby(['Nationality' ,'Name'], as_index=False)\n",
    "df_agg = group.agg({'Overall Rank': np.mean, 'Total Score': np.sum})\\\n",
    "    .rename(columns={'Total Score' : 'Cumulative Score'})\\\n",
    "    .sort_values('Overall Rank').reset_index(drop=True)\n",
    "df_agg.to_csv('cleaned.csv', index=False)"
   ]
  },
  {
   "cell_type": "code",
   "execution_count": null,
   "metadata": {},
   "outputs": [],
   "source": []
  }
 ],
 "metadata": {
  "kernelspec": {
   "display_name": "Python 3",
   "language": "python",
   "name": "python3"
  },
  "language_info": {
   "codemirror_mode": {
    "name": "ipython",
    "version": 3
   },
   "file_extension": ".py",
   "mimetype": "text/x-python",
   "name": "python",
   "nbconvert_exporter": "python",
   "pygments_lexer": "ipython3",
   "version": "3.6.5"
  }
 },
 "nbformat": 4,
 "nbformat_minor": 2
}
